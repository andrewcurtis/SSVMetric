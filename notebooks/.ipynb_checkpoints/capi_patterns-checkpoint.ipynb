{
 "metadata": {
  "name": "",
  "signature": "sha256:c7d7f0dca2c2f45807768db862fb8d42c58ad84fc3d30c55ff04b19da5c13fb2"
 },
 "nbformat": 3,
 "nbformat_minor": 0,
 "worksheets": [
  {
   "cells": [
    {
     "cell_type": "code",
     "collapsed": false,
     "input": [
      "%matplotlib inline\n",
      "\n",
      "import numpy as np\n",
      "\n",
      "try:\n",
      "    import cPickle as pickle\n",
      "except ImportError:\n",
      "    import pickle as pickle\n",
      "    \n",
      "import sys\n",
      "sys.path.append('../src')\n",
      "\n",
      "import PatternEvaluator as pe\n",
      "import SamplingPattern as sp\n",
      "\n",
      "import seaborn as sns\n",
      "import pandas as pd\n",
      "\n",
      "mype = pe.PatternEvaluator()\n",
      "mype.load_sens('../data/sens_6ch_128x128.npz')\n"
     ],
     "language": "python",
     "metadata": {},
     "outputs": [],
     "prompt_number": 14
    },
    {
     "cell_type": "code",
     "collapsed": false,
     "input": [
      "import mkl\n",
      "\n",
      "mkl.set_num_threads(1)"
     ],
     "language": "python",
     "metadata": {},
     "outputs": [],
     "prompt_number": 2
    },
    {
     "cell_type": "code",
     "collapsed": false,
     "input": [
      "dat  = np.load('../data/capi_pats_128.npz')"
     ],
     "language": "python",
     "metadata": {},
     "outputs": [],
     "prompt_number": 3
    },
    {
     "cell_type": "code",
     "collapsed": false,
     "input": [
      "cap4 = dat['cap4']\n",
      "cap8 = dat['cap8']\n",
      "cap16 = dat['cap16']"
     ],
     "language": "python",
     "metadata": {},
     "outputs": [],
     "prompt_number": 4
    },
    {
     "cell_type": "code",
     "collapsed": false,
     "input": [
      "pat = sp.SamplingPattern()\n",
      "pat.sampling = np.ones((128,128))\n",
      "mype.eval_pattern(pat)\n"
     ],
     "language": "python",
     "metadata": {},
     "outputs": [
      {
       "output_type": "stream",
       "stream": "stdout",
       "text": [
        "Using normfac of 31\n",
        "Elapased: 6.91249299049s"
       ]
      },
      {
       "output_type": "stream",
       "stream": "stdout",
       "text": [
        "\n",
        "Elapased: 6.8771879673s"
       ]
      },
      {
       "output_type": "stream",
       "stream": "stdout",
       "text": [
        "\n",
        "[ 4.45040844]\n",
        "[ 4.45040844]\n"
       ]
      }
     ],
     "prompt_number": 6
    },
    {
     "cell_type": "code",
     "collapsed": false,
     "input": [
      "from Varian import *\n",
      "dm(sumsq(mype.sens))"
     ],
     "language": "python",
     "metadata": {},
     "outputs": [
      {
       "metadata": {},
       "output_type": "display_data",
       "png": "[encoded data removed]",
       "text": [
        "<matplotlib.figure.Figure at 0x11cc18a50>"
       ]
      }
     ],
     "prompt_number": 15
    },
    {
     "cell_type": "code",
     "collapsed": false,
     "input": [
      "1/4.45"
     ],
     "language": "python",
     "metadata": {},
     "outputs": [
      {
       "metadata": {},
       "output_type": "pyout",
       "prompt_number": 7,
       "text": [
        "0.2247191011235955"
       ]
      }
     ],
     "prompt_number": 7
    },
    {
     "cell_type": "code",
     "collapsed": false,
     "input": [
      "cap4_pats = []\n",
      "for j in range(cap4.shape[0]):\n",
      "    pat = sp.SamplingPattern()\n",
      "    pat.sampling = cap4[j,...].copy()\n",
      "    mype.eval_pattern(pat)\n",
      "    cap4_pats.append(pat)"
     ],
     "language": "python",
     "metadata": {},
     "outputs": []
    },
    {
     "cell_type": "code",
     "collapsed": false,
     "input": [
      "cap8_pats = []\n",
      "for j in range(cap8.shape[0]):\n",
      "    pat = sp.SamplingPattern()\n",
      "    pat.sampling = cap8[j,...].copy()\n",
      "    mype.eval_pattern(pat)\n",
      "    cap8_pats.append(pat)"
     ],
     "language": "python",
     "metadata": {},
     "outputs": [
      {
       "output_type": "stream",
       "stream": "stdout",
       "text": [
        "Using normfac of 31\n",
        "Elapased: 6.92523097992s"
       ]
      },
      {
       "output_type": "stream",
       "stream": "stdout",
       "text": [
        "\n",
        "Elapased: 212.862684965s"
       ]
      },
      {
       "output_type": "stream",
       "stream": "stdout",
       "text": [
        "\n",
        "[ 0.0001879]\n",
        "[  5.60568869e-09]\n",
        "Using normfac of 31\n",
        "Elapased: 6.63411617279s"
       ]
      },
      {
       "output_type": "stream",
       "stream": "stdout",
       "text": [
        "\n",
        "Elapased: 103.271170855s"
       ]
      },
      {
       "output_type": "stream",
       "stream": "stdout",
       "text": [
        "\n",
        "[ 0.000129]\n",
        "[  5.08577252e-08]\n",
        "Using normfac of 31\n",
        "Elapased: 6.61615395546s"
       ]
      },
      {
       "output_type": "stream",
       "stream": "stdout",
       "text": [
        "\n",
        "Elapased: 79.0830180645s"
       ]
      },
      {
       "output_type": "stream",
       "stream": "stdout",
       "text": [
        "\n",
        "[ 0.00013581]\n",
        "[  9.04204765e-08]\n",
        "Using normfac of 31\n",
        "Elapased: 6.61998009682s"
       ]
      },
      {
       "output_type": "stream",
       "stream": "stdout",
       "text": [
        "\n",
        "Elapased: 54.9372391701s"
       ]
      },
      {
       "output_type": "stream",
       "stream": "stdout",
       "text": [
        "\n",
        "[ 0.0001312]\n",
        "[  9.14650032e-08]\n",
        "Using normfac of 31\n",
        "Elapased: 6.64673805237s"
       ]
      },
      {
       "output_type": "stream",
       "stream": "stdout",
       "text": [
        "\n",
        "Elapased: 65.3814020157s"
       ]
      },
      {
       "output_type": "stream",
       "stream": "stdout",
       "text": [
        "\n",
        "[ 0.0001424]\n",
        "[  4.73671534e-08]\n",
        "Using normfac of 31\n",
        "Elapased: 6.66034603119s"
       ]
      },
      {
       "output_type": "stream",
       "stream": "stdout",
       "text": [
        "\n",
        "Elapased: 148.244639874s"
       ]
      },
      {
       "output_type": "stream",
       "stream": "stdout",
       "text": [
        "\n",
        "[ 0.0001388]\n",
        "[  2.37718680e-08]\n",
        "Using normfac of 31\n",
        "Elapased: 6.59916305542s"
       ]
      },
      {
       "output_type": "stream",
       "stream": "stdout",
       "text": [
        "\n",
        "Elapased: 124.045928001s"
       ]
      },
      {
       "output_type": "stream",
       "stream": "stdout",
       "text": [
        "\n",
        "[ 0.00013104]\n",
        "[  4.94756957e-08]\n",
        "Using normfac of 31\n",
        "Elapased: 6.62367892265s"
       ]
      },
      {
       "output_type": "stream",
       "stream": "stdout",
       "text": [
        "\n",
        "Elapased: 68.7595160007s"
       ]
      },
      {
       "output_type": "stream",
       "stream": "stdout",
       "text": [
        "\n",
        "[ 0.00013146]\n",
        "[  7.62456159e-08]\n",
        "Using normfac of 31\n",
        "Elapased: 6.61842107773s"
       ]
      },
      {
       "output_type": "stream",
       "stream": "stdout",
       "text": [
        "\n",
        "Elapased: 58.4168579578s"
       ]
      },
      {
       "output_type": "stream",
       "stream": "stdout",
       "text": [
        "\n",
        "[ 0.00012858]\n",
        "[  1.69376657e-07]\n",
        "Using normfac of 31\n",
        "Elapased: 6.59891986847s"
       ]
      },
      {
       "output_type": "stream",
       "stream": "stdout",
       "text": [
        "\n",
        "Elapased: 347.862972021s"
       ]
      },
      {
       "output_type": "stream",
       "stream": "stdout",
       "text": [
        "\n",
        "[ 0.00021072]\n",
        "[  6.67761624e-09]\n",
        "Using normfac of 31\n",
        "Elapased: 6.62648701668s"
       ]
      },
      {
       "output_type": "stream",
       "stream": "stdout",
       "text": [
        "\n",
        "Elapased: 144.560331821s"
       ]
      },
      {
       "output_type": "stream",
       "stream": "stdout",
       "text": [
        "\n",
        "[ 0.00014892]\n",
        "[  9.54338073e-09]\n",
        "Using normfac of 31\n",
        "Elapased: 6.63304901123s"
       ]
      },
      {
       "output_type": "stream",
       "stream": "stdout",
       "text": [
        "\n",
        "Elapased: 54.9804890156s"
       ]
      },
      {
       "output_type": "stream",
       "stream": "stdout",
       "text": [
        "\n",
        "[ 0.00013768]\n",
        "[  6.63005986e-08]\n",
        "Using normfac of 31\n",
        "Elapased: 6.6299738884s"
       ]
      },
      {
       "output_type": "stream",
       "stream": "stdout",
       "text": [
        "\n",
        "Elapased: 189.567173958s"
       ]
      },
      {
       "output_type": "stream",
       "stream": "stdout",
       "text": [
        "\n",
        "[ 0.00015925]\n",
        "[  9.11101899e-09]\n",
        "Using normfac of 31\n",
        "Elapased: 6.62682890892s"
       ]
      },
      {
       "output_type": "stream",
       "stream": "stdout",
       "text": [
        "\n",
        "Elapased: 58.4434020519s"
       ]
      },
      {
       "output_type": "stream",
       "stream": "stdout",
       "text": [
        "\n",
        "[ 0.00013968]\n",
        "[  4.58987545e-08]\n",
        "Using normfac of 31\n",
        "Elapased: 6.61673784256s"
       ]
      },
      {
       "output_type": "stream",
       "stream": "stdout",
       "text": [
        "\n",
        "Elapased: 96.730576992s"
       ]
      },
      {
       "output_type": "stream",
       "stream": "stdout",
       "text": [
        "\n",
        "[ 0.00012875]\n",
        "[  1.98750738e-07]\n"
       ]
      }
     ],
     "prompt_number": 23
    },
    {
     "cell_type": "code",
     "collapsed": false,
     "input": [
      "for j in cap8_pats:\n",
      "    print j.hi_eigs"
     ],
     "language": "python",
     "metadata": {},
     "outputs": [
      {
       "output_type": "stream",
       "stream": "stdout",
       "text": [
        "[ 0.0001879]\n",
        "[ 0.000129]\n",
        "[ 0.00013581]\n",
        "[ 0.0001312]\n",
        "[ 0.0001424]\n",
        "[ 0.0001388]\n",
        "[ 0.00013104]\n",
        "[ 0.00013146]\n",
        "[ 0.00012858]\n",
        "[ 0.00021072]\n",
        "[ 0.00014892]\n",
        "[ 0.00013768]\n",
        "[ 0.00015925]\n",
        "[ 0.00013968]\n",
        "[ 0.00012875]\n"
       ]
      }
     ],
     "prompt_number": 33
    },
    {
     "cell_type": "code",
     "collapsed": false,
     "input": [
      "for j in cap8_pats:\n",
      "    print j.low_eigs"
     ],
     "language": "python",
     "metadata": {},
     "outputs": [
      {
       "output_type": "stream",
       "stream": "stdout",
       "text": [
        "[  5.60568869e-09]\n",
        "[  5.08577252e-08]\n",
        "[  9.04204765e-08]\n",
        "[  9.14650032e-08]\n",
        "[  4.73671534e-08]\n",
        "[  2.37718680e-08]\n",
        "[  4.94756957e-08]\n",
        "[  7.62456159e-08]\n",
        "[  1.69376657e-07]\n",
        "[  6.67761624e-09]\n",
        "[  9.54338073e-09]\n",
        "[  6.63005986e-08]\n",
        "[  9.11101899e-09]\n",
        "[  4.58987545e-08]\n",
        "[  1.98750738e-07]\n"
       ]
      }
     ],
     "prompt_number": 34
    },
    {
     "cell_type": "code",
     "collapsed": false,
     "input": [],
     "language": "python",
     "metadata": {},
     "outputs": []
    }
   ],
   "metadata": {}
  }
 ]
}