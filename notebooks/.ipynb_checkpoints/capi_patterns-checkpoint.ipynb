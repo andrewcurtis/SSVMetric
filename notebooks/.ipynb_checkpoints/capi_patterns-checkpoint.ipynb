{
 "metadata": {
  "name": "",
  "signature": "sha256:3f64423f61d105dc0b6059ade84f2acbbed895e4ea0b297786c5ceeac26682bf"
 },
 "nbformat": 3,
 "nbformat_minor": 0,
 "worksheets": [
  {
   "cells": [
    {
     "cell_type": "code",
     "collapsed": false,
     "input": [
      "%matplotlib inline\n",
      "\n",
      "import numpy as np\n",
      "\n",
      "try:\n",
      "    import cPickle as pickle\n",
      "except ImportError:\n",
      "    import pickle as pickle\n",
      "    \n",
      "import sys\n",
      "sys.path.append('../src')\n",
      "\n",
      "import PatternEvaluator as pe\n",
      "import SamplingPattern as sp\n",
      "\n",
      "import seaborn as sns\n",
      "import pandas as pd\n",
      "\n",
      "mype = pe.PatternEvaluator()\n",
      "mype.load_sens('../data/sens_31ch_128x128.npz')\n"
     ],
     "language": "python",
     "metadata": {},
     "outputs": [],
     "prompt_number": 1
    },
    {
     "cell_type": "code",
     "collapsed": false,
     "input": [
      "try:\n",
      "    import mkl\n",
      "    mkl.set_num_threads(1)\n",
      "except ImportError:\n",
      "    pass\n"
     ],
     "language": "python",
     "metadata": {},
     "outputs": [],
     "prompt_number": 2
    },
    {
     "cell_type": "code",
     "collapsed": false,
     "input": [
      "dat  = np.load('../data/capi_pats_128.npz')"
     ],
     "language": "python",
     "metadata": {},
     "outputs": [],
     "prompt_number": 3
    },
    {
     "cell_type": "code",
     "collapsed": false,
     "input": [
      "cap4 = dat['cap4']\n",
      "cap8 = dat['cap8']\n",
      "cap16 = dat['cap16']"
     ],
     "language": "python",
     "metadata": {},
     "outputs": [],
     "prompt_number": 4
    },
    {
     "cell_type": "code",
     "collapsed": false,
     "input": [
      "pat = sp.SamplingPattern()\n",
      "pat.sampling = np.ones((128,128))\n",
      "mype.eval_pattern(pat)\n"
     ],
     "language": "python",
     "metadata": {},
     "outputs": [
      {
       "output_type": "stream",
       "stream": "stdout",
       "text": [
        "Using normfac of 31\n",
        "Elapased: 7.50742220879s"
       ]
      },
      {
       "output_type": "stream",
       "stream": "stdout",
       "text": [
        "\n",
        "Elapased: 7.15339422226s"
       ]
      },
      {
       "output_type": "stream",
       "stream": "stdout",
       "text": [
        "\n",
        "[ 1.]\n",
        "[ 1.]\n"
       ]
      }
     ],
     "prompt_number": 5
    },
    {
     "cell_type": "code",
     "collapsed": false,
     "input": [
      "cap4_pats = []\n",
      "for j in range(cap4.shape[0]):\n",
      "    pat = sp.SamplingPattern()\n",
      "    pat.sampling = cap4[j,...].copy()\n",
      "    mype.eval_pattern(pat)\n",
      "    cap4_pats.append(pat)"
     ],
     "language": "python",
     "metadata": {},
     "outputs": []
    },
    {
     "cell_type": "code",
     "collapsed": false,
     "input": [
      "cap8_pats = []\n",
      "for j in range(cap8.shape[0]):\n",
      "    pat = sp.SamplingPattern()\n",
      "    pat.sampling = cap8[j,...].copy()\n",
      "    mype.eval_pattern(pat)\n",
      "    cap8_pats.append(pat)"
     ],
     "language": "python",
     "metadata": {},
     "outputs": [
      {
       "output_type": "stream",
       "stream": "stdout",
       "text": [
        "Using normfac of 31\n",
        "Elapased: 6.70600295067s"
       ]
      },
      {
       "output_type": "stream",
       "stream": "stdout",
       "text": [
        "\n",
        "Elapased: 196.232702971s"
       ]
      },
      {
       "output_type": "stream",
       "stream": "stdout",
       "text": [
        "\n",
        "[ 0.6917784]\n",
        "[  2.06371179e-05]\n",
        "Using normfac of 31\n",
        "Elapased: 6.63156700134s"
       ]
      },
      {
       "output_type": "stream",
       "stream": "stdout",
       "text": [
        "\n",
        "Elapased: 93.1075110435s"
       ]
      },
      {
       "output_type": "stream",
       "stream": "stdout",
       "text": [
        "\n",
        "[ 0.47491738]\n",
        "[ 0.00018723]\n",
        "Using normfac of 31\n",
        "Elapased: 6.59952306747s"
       ]
      },
      {
       "output_type": "stream",
       "stream": "stdout",
       "text": [
        "\n",
        "Elapased: 74.0610351562s"
       ]
      },
      {
       "output_type": "stream",
       "stream": "stdout",
       "text": [
        "\n",
        "[ 0.49997587]\n",
        "[ 0.00033288]\n",
        "Using normfac of 31\n",
        "Elapased: 6.70148301125s"
       ]
      },
      {
       "output_type": "stream",
       "stream": "stdout",
       "text": [
        "\n",
        "Elapased: 52.3364388943s"
       ]
      },
      {
       "output_type": "stream",
       "stream": "stdout",
       "text": [
        "\n",
        "[ 0.48301431]\n",
        "[ 0.00033672]\n",
        "Using normfac of 31\n",
        "Elapased: 6.75003910065s"
       ]
      },
      {
       "output_type": "stream",
       "stream": "stdout",
       "text": [
        "\n",
        "Elapased: 66.326485157s"
       ]
      },
      {
       "output_type": "stream",
       "stream": "stdout",
       "text": [
        "\n",
        "[ 0.52424726]\n",
        "[ 0.00017438]\n",
        "Using normfac of 31\n",
        "Elapased: 6.73936414719s"
       ]
      },
      {
       "output_type": "stream",
       "stream": "stdout",
       "text": [
        "\n",
        "Elapased: 154.108430147s"
       ]
      },
      {
       "output_type": "stream",
       "stream": "stdout",
       "text": [
        "\n",
        "[ 0.51099389]\n",
        "[  8.75151778e-05]\n",
        "Using normfac of 31\n",
        "Elapased: 6.72156691551s"
       ]
      },
      {
       "output_type": "stream",
       "stream": "stdout",
       "text": [
        "\n",
        "Elapased: 136.779484034s"
       ]
      },
      {
       "output_type": "stream",
       "stream": "stdout",
       "text": [
        "\n",
        "[ 0.48241748]\n",
        "[ 0.00018214]\n",
        "Using normfac of 31\n",
        "Elapased: 7.26346111298s"
       ]
      },
      {
       "output_type": "stream",
       "stream": "stdout",
       "text": [
        "\n",
        "Elapased: 71.6315910816s"
       ]
      },
      {
       "output_type": "stream",
       "stream": "stdout",
       "text": [
        "\n",
        "[ 0.4839625]\n",
        "[ 0.0002807]\n",
        "Using normfac of 31\n",
        "Elapased: 6.71988797188s"
       ]
      },
      {
       "output_type": "stream",
       "stream": "stdout",
       "text": [
        "\n",
        "Elapased: 58.9523699284s"
       ]
      },
      {
       "output_type": "stream",
       "stream": "stdout",
       "text": [
        "\n",
        "[ 0.47337738]\n",
        "[ 0.00062355]\n",
        "Using normfac of 31\n",
        "Elapased: 6.64993596077s"
       ]
      },
      {
       "output_type": "stream",
       "stream": "stdout",
       "text": [
        "\n",
        "Elapased: 355.728889942s"
       ]
      },
      {
       "output_type": "stream",
       "stream": "stdout",
       "text": [
        "\n",
        "[ 0.77576864]\n",
        "[  2.45833761e-05]\n",
        "Using normfac of 31\n",
        "Elapased: 6.64611506462s"
       ]
      },
      {
       "output_type": "stream",
       "stream": "stdout",
       "text": [
        "\n",
        "Elapased: 141.914307117s"
       ]
      },
      {
       "output_type": "stream",
       "stream": "stdout",
       "text": [
        "\n",
        "[ 0.54823955]\n",
        "[  3.51335730e-05]\n",
        "Using normfac of 31\n",
        "Elapased: 6.6462700367s"
       ]
      },
      {
       "output_type": "stream",
       "stream": "stdout",
       "text": [
        "\n",
        "Elapased: 55.4606389999s"
       ]
      },
      {
       "output_type": "stream",
       "stream": "stdout",
       "text": [
        "\n",
        "[ 0.50684797]\n",
        "[ 0.00024408]\n",
        "Using normfac of 31\n",
        "Elapased: 6.66674113274s"
       ]
      },
      {
       "output_type": "stream",
       "stream": "stdout",
       "text": [
        "\n",
        "Elapased: 199.927875996s"
       ]
      },
      {
       "output_type": "stream",
       "stream": "stdout",
       "text": [
        "\n",
        "[ 0.58627025]\n",
        "[  3.35418506e-05]\n",
        "Using normfac of 31\n",
        "Elapased: 7.36388611794s"
       ]
      },
      {
       "output_type": "stream",
       "stream": "stdout",
       "text": [
        "\n",
        "Elapased: 68.0651478767s"
       ]
      },
      {
       "output_type": "stream",
       "stream": "stdout",
       "text": [
        "\n",
        "[ 0.51421908]\n",
        "[ 0.00016897]\n",
        "Using normfac of 31\n",
        "Elapased: 7.31943821907s"
       ]
      },
      {
       "output_type": "stream",
       "stream": "stdout",
       "text": [
        "\n",
        "Elapased: 109.955765009s"
       ]
      },
      {
       "output_type": "stream",
       "stream": "stdout",
       "text": [
        "\n",
        "[ 0.47397559]\n",
        "[ 0.00073169]\n"
       ]
      }
     ],
     "prompt_number": 13
    },
    {
     "cell_type": "code",
     "collapsed": false,
     "input": [
      "for j in cap8_pats:\n",
      "    print j.hi_eigs"
     ],
     "language": "python",
     "metadata": {},
     "outputs": [
      {
       "output_type": "stream",
       "stream": "stdout",
       "text": [
        "[ 0.6917784]\n",
        "[ 0.47491738]\n",
        "[ 0.49997587]\n",
        "[ 0.48301431]\n",
        "[ 0.52424726]\n",
        "[ 0.51099389]\n",
        "[ 0.48241748]\n",
        "[ 0.4839625]\n",
        "[ 0.47337738]\n",
        "[ 0.77576864]\n",
        "[ 0.54823955]\n",
        "[ 0.50684797]\n",
        "[ 0.58627025]\n",
        "[ 0.51421908]\n",
        "[ 0.47397559]\n"
       ]
      }
     ],
     "prompt_number": 15
    },
    {
     "cell_type": "code",
     "collapsed": false,
     "input": [
      "for j in cap8_pats:\n",
      "    print j.low_eigs"
     ],
     "language": "python",
     "metadata": {},
     "outputs": [
      {
       "output_type": "stream",
       "stream": "stdout",
       "text": [
        "[  5.60568869e-09]\n",
        "[  5.08577252e-08]\n",
        "[  9.04204765e-08]\n",
        "[  9.14650032e-08]\n",
        "[  4.73671534e-08]\n",
        "[  2.37718680e-08]\n",
        "[  4.94756957e-08]\n",
        "[  7.62456159e-08]\n",
        "[  1.69376657e-07]\n",
        "[  6.67761624e-09]\n",
        "[  9.54338073e-09]\n",
        "[  6.63005986e-08]\n",
        "[  9.11101899e-09]\n",
        "[  4.58987545e-08]\n",
        "[  1.98750738e-07]\n"
       ]
      }
     ],
     "prompt_number": 34
    },
    {
     "cell_type": "code",
     "collapsed": false,
     "input": [],
     "language": "python",
     "metadata": {},
     "outputs": []
    }
   ],
   "metadata": {}
  }
 ]
}