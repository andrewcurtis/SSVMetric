{
 "metadata": {
  "name": "",
  "signature": "sha256:35093dddd3b13a54da2c80696cb23ccb868aa3712933bb6d084be065cf34f238"
 },
 "nbformat": 3,
 "nbformat_minor": 0,
 "worksheets": [
  {
   "cells": [
    {
     "cell_type": "code",
     "collapsed": false,
     "input": [
      "%pylab inline\n",
      "import numpy as np\n",
      "\n",
      "import sys\n",
      "sys.path.append('../src')\n",
      "\n",
      "import PatternEvaluator as pe\n",
      "import SamplingPattern as sp\n",
      "\n"
     ],
     "language": "python",
     "metadata": {},
     "outputs": [
      {
       "output_type": "stream",
       "stream": "stdout",
       "text": [
        "Populating the interactive namespace from numpy and matplotlib\n"
       ]
      }
     ],
     "prompt_number": 1
    },
    {
     "cell_type": "code",
     "collapsed": false,
     "input": [
      "# instance PatternEvaluator\n",
      "mype = pe.PatternEvaluator()\n",
      "\n",
      "#load numpy array of coil sensitivities. (nchannels x nx x ny)\n",
      "mype.load_sens('../data/sens_6ch_128x128.npz')\n",
      "#mype.load_sens('../data/sens_31ch_128x128.npz')\n",
      "\n"
     ],
     "language": "python",
     "metadata": {},
     "outputs": [],
     "prompt_number": 2
    },
    {
     "cell_type": "code",
     "collapsed": false,
     "input": [
      "\n",
      "# make sampling pat\n",
      "mypat = sp.SamplingPattern()\n",
      "\n",
      "# set up vectors for r= 2x2\n",
      "mypat.yvec[::2,:]=0\n",
      "mypat.xvec[:,::2]=0\n",
      "\n",
      "#tell sampling pattern to calculate its 'sampling' parameter by taking outer product of x and y sampling vectors\n",
      "mypat.calc_pattern()\n",
      "\n",
      "#alternativley, you can set mypat.sampling to an array of 1/0 of the correct k-space size\n",
      "\n"
     ],
     "language": "python",
     "metadata": {},
     "outputs": [
      {
       "metadata": {},
       "output_type": "pyout",
       "prompt_number": 9,
       "text": [
        "array([[ 0.,  0.,  0., ...,  0.,  0.,  0.],\n",
        "       [ 0.,  1.,  0., ...,  1.,  0.,  1.],\n",
        "       [ 0.,  0.,  0., ...,  0.,  0.,  0.],\n",
        "       ..., \n",
        "       [ 0.,  1.,  0., ...,  1.,  0.,  1.],\n",
        "       [ 0.,  0.,  0., ...,  0.,  0.,  0.],\n",
        "       [ 0.,  1.,  0., ...,  1.,  0.,  1.]])"
       ]
      }
     ],
     "prompt_number": 9
    },
    {
     "cell_type": "code",
     "collapsed": false,
     "input": [
      "pat = np.random.sample((128,128))>0.75\n",
      "sum(pat)\n",
      "mypat.sampling = pat"
     ],
     "language": "python",
     "metadata": {},
     "outputs": [],
     "prompt_number": 4
    },
    {
     "cell_type": "code",
     "collapsed": false,
     "input": [
      "#evaluate pattern\n",
      "mype.eval_pattern(mypat)"
     ],
     "language": "python",
     "metadata": {},
     "outputs": [
      {
       "output_type": "stream",
       "stream": "stdout",
       "text": [
        "Using normfac of 6\n",
        "Elapased: 1.51298999786s"
       ]
      },
      {
       "output_type": "stream",
       "stream": "stdout",
       "text": [
        "\n",
        "Elapased: 3.15601205826s"
       ]
      },
      {
       "output_type": "stream",
       "stream": "stdout",
       "text": [
        "\n",
        "[ 0.78477078]\n",
        "[ 0.00186844]\n"
       ]
      }
     ],
     "prompt_number": 5
    },
    {
     "cell_type": "code",
     "collapsed": false,
     "input": [
      "#can change simulation params in mypat\n",
      "mypat.hitol=1e-2\n",
      "mypat.tol=1e-5"
     ],
     "language": "python",
     "metadata": {},
     "outputs": [],
     "prompt_number": 5
    },
    {
     "cell_type": "code",
     "collapsed": false,
     "input": [
      "mype.eval_pattern(mypat)"
     ],
     "language": "python",
     "metadata": {},
     "outputs": [
      {
       "output_type": "stream",
       "stream": "stdout",
       "text": [
        "Using normfac of 6\n",
        "Elapased: 1.52117180824s"
       ]
      },
      {
       "output_type": "stream",
       "stream": "stdout",
       "text": [
        "\n",
        "Elapased: 3.0257589817s"
       ]
      },
      {
       "output_type": "stream",
       "stream": "stdout",
       "text": [
        "\n",
        "[ 0.81433894]\n",
        "[ 0.00251387]\n"
       ]
      }
     ],
     "prompt_number": 6
    },
    {
     "cell_type": "code",
     "collapsed": false,
     "input": [
      "# We can opt to use a single coil, in which case the system is not solvable\n",
      "#mype.set_single_coil()\n",
      "#mype.eval_pattern(mypat)"
     ],
     "language": "python",
     "metadata": {},
     "outputs": [
      {
       "output_type": "stream",
       "stream": "stdout",
       "text": [
        "Using normfac of 1\n",
        "Elapased: 1.28519105911s"
       ]
      },
      {
       "output_type": "stream",
       "stream": "stdout",
       "text": [
        "\n",
        "Elapased: 0.637102127075s"
       ]
      },
      {
       "output_type": "stream",
       "stream": "stdout",
       "text": [
        "\n",
        "[ 1.]\n",
        "[  1.58052540e-21]\n"
       ]
      }
     ],
     "prompt_number": 8
    },
    {
     "cell_type": "markdown",
     "metadata": {},
     "source": [
      "Demonstration: fill in centre block of sampling pattern and re-evaluate. Note the change in the maximum eigenvalue."
     ]
    },
    {
     "cell_type": "code",
     "collapsed": false,
     "input": [
      "mypat.sampling[61:67, 61:67]=1"
     ],
     "language": "python",
     "metadata": {},
     "outputs": [],
     "prompt_number": 7
    },
    {
     "cell_type": "code",
     "collapsed": false,
     "input": [
      "mype.eval_pattern(mypat)"
     ],
     "language": "python",
     "metadata": {},
     "outputs": [
      {
       "output_type": "stream",
       "stream": "stdout",
       "text": [
        "Using normfac of 6\n",
        "Elapased: 1.48094511032s"
       ]
      },
      {
       "output_type": "stream",
       "stream": "stdout",
       "text": [
        "\n",
        "Elapased: 2.99401712418s"
       ]
      },
      {
       "output_type": "stream",
       "stream": "stdout",
       "text": [
        "\n",
        "[ 0.99191374]\n",
        "[ 0.00252401]\n"
       ]
      }
     ],
     "prompt_number": 8
    },
    {
     "cell_type": "code",
     "collapsed": false,
     "input": [
      "mypat.sampling[61:68,122:127]=1\n",
      "mype.eval_pattern(mypat)"
     ],
     "language": "python",
     "metadata": {},
     "outputs": [
      {
       "output_type": "stream",
       "stream": "stdout",
       "text": [
        "Using normfac of 6\n",
        "Elapased: 1.46254396439s"
       ]
      },
      {
       "output_type": "stream",
       "stream": "stdout",
       "text": [
        "\n",
        "Elapased: 1.44049692154s"
       ]
      },
      {
       "output_type": "stream",
       "stream": "stdout",
       "text": [
        "\n",
        "[ 0.98609627]\n",
        "[ 0.0734144]\n"
       ]
      }
     ],
     "prompt_number": 10
    }
   ],
   "metadata": {}
  }
 ]
}