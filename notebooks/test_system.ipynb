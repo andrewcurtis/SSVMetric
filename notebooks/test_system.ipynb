{
 "metadata": {
  "name": "",
  "signature": "sha256:03bd6dfe68a8905c7fe5721b769f91a1ac805920b0c92a86acaa8313f53fe753"
 },
 "nbformat": 3,
 "nbformat_minor": 0,
 "worksheets": [
  {
   "cells": [
    {
     "cell_type": "code",
     "collapsed": false,
     "input": [
      "%pylab inline\n",
      "import numpy as np\n",
      "\n",
      "import sys\n",
      "sys.path.append('../src')\n",
      "\n",
      "import PatternEvaluator as pe\n",
      "import SamplingPattern as sp\n",
      "\n"
     ],
     "language": "python",
     "metadata": {},
     "outputs": [
      {
       "output_type": "stream",
       "stream": "stdout",
       "text": [
        "Populating the interactive namespace from numpy and matplotlib\n"
       ]
      }
     ],
     "prompt_number": 1
    },
    {
     "cell_type": "code",
     "collapsed": false,
     "input": [
      "# instance PatternEvaluator\n",
      "mype = pe.PatternEvaluator()\n",
      "\n",
      "#load numpy array of coil sensitivities. (nchannels x nx x ny)\n",
      "mype.load_sens('../data/sens_6ch_128x128.npz')\n",
      "#mype.load_sens('../data/sens_31ch_128x128.npz')\n",
      "\n"
     ],
     "language": "python",
     "metadata": {},
     "outputs": [],
     "prompt_number": 2
    },
    {
     "cell_type": "code",
     "collapsed": false,
     "input": [
      "\n",
      "# make sampling pat\n",
      "mypat = sp.SamplingPattern()\n",
      "\n",
      "# set up vectors for r= 2x2\n",
      "mypat.yvec[::2,:]=0\n",
      "mypat.xvec[:,::2]=0\n",
      "\n",
      "#tell sampling pattern to calculate its 'sampling' parameter by taking outer product of x and y sampling vectors\n",
      "mypat.calc_pattern()\n",
      "\n",
      "#alternativley, you can set mypat.sampling to an array of 1/0 of the correct k-space size\n",
      "\n"
     ],
     "language": "python",
     "metadata": {},
     "outputs": [
      {
       "metadata": {},
       "output_type": "pyout",
       "prompt_number": 12,
       "text": [
        "array([[ 0.,  0.,  0., ...,  0.,  0.,  0.],\n",
        "       [ 0.,  1.,  0., ...,  1.,  0.,  1.],\n",
        "       [ 0.,  0.,  0., ...,  0.,  0.,  0.],\n",
        "       ..., \n",
        "       [ 0.,  1.,  0., ...,  1.,  0.,  1.],\n",
        "       [ 0.,  0.,  0., ...,  0.,  0.,  0.],\n",
        "       [ 0.,  1.,  0., ...,  1.,  0.,  1.]])"
       ]
      }
     ],
     "prompt_number": 12
    },
    {
     "cell_type": "code",
     "collapsed": false,
     "input": [
      "pat = np.random.sample((128,128))>0.75\n",
      "sum(pat)\n",
      "mypat.sampling = pat"
     ],
     "language": "python",
     "metadata": {},
     "outputs": [],
     "prompt_number": 4
    },
    {
     "cell_type": "code",
     "collapsed": false,
     "input": [
      "#evaluate pattern\n",
      "mype.eval_pattern(mypat)"
     ],
     "language": "python",
     "metadata": {},
     "outputs": [
      {
       "output_type": "stream",
       "stream": "stdout",
       "text": [
        "Using normfac of 6\n",
        "Elapased: 1.51298999786s"
       ]
      },
      {
       "output_type": "stream",
       "stream": "stdout",
       "text": [
        "\n",
        "Elapased: 3.15601205826s"
       ]
      },
      {
       "output_type": "stream",
       "stream": "stdout",
       "text": [
        "\n",
        "[ 0.78477078]\n",
        "[ 0.00186844]\n"
       ]
      }
     ],
     "prompt_number": 5
    },
    {
     "cell_type": "code",
     "collapsed": false,
     "input": [
      "#can change simulation params in mypat\n",
      "mypat.hitol=1e-2\n",
      "mypat.tol=1e-5"
     ],
     "language": "python",
     "metadata": {},
     "outputs": [],
     "prompt_number": 14
    },
    {
     "cell_type": "code",
     "collapsed": false,
     "input": [
      "mype.eval_pattern(mypat)"
     ],
     "language": "python",
     "metadata": {},
     "outputs": [
      {
       "output_type": "stream",
       "stream": "stdout",
       "text": [
        "Using normfac of 6\n",
        "Elapased: 1.46633195877s"
       ]
      },
      {
       "output_type": "stream",
       "stream": "stdout",
       "text": [
        "\n",
        "Elapased: 3.00307703018s"
       ]
      },
      {
       "output_type": "stream",
       "stream": "stdout",
       "text": [
        "\n",
        "[ 0.78477078]\n",
        "[ 0.00186844]\n"
       ]
      }
     ],
     "prompt_number": 7
    },
    {
     "cell_type": "code",
     "collapsed": false,
     "input": [
      "mype.set_single_coil()\n",
      "mype.eval_pattern(mypat)"
     ],
     "language": "python",
     "metadata": {},
     "outputs": [
      {
       "output_type": "stream",
       "stream": "stdout",
       "text": [
        "Using normfac of 1\n",
        "Elapased: 1.28519105911s"
       ]
      },
      {
       "output_type": "stream",
       "stream": "stdout",
       "text": [
        "\n",
        "Elapased: 0.637102127075s"
       ]
      },
      {
       "output_type": "stream",
       "stream": "stdout",
       "text": [
        "\n",
        "[ 1.]\n",
        "[  1.58052540e-21]\n"
       ]
      }
     ],
     "prompt_number": 8
    },
    {
     "cell_type": "markdown",
     "metadata": {},
     "source": [
      "Demonstration: fill in centre block of sampling pattern and re-evaluate. Note the change in the maximum eigenvalue."
     ]
    },
    {
     "cell_type": "code",
     "collapsed": false,
     "input": [
      "mypat.sampling[61:67, 61:67]=1"
     ],
     "language": "python",
     "metadata": {},
     "outputs": [],
     "prompt_number": 9
    },
    {
     "cell_type": "code",
     "collapsed": false,
     "input": [
      "mype.eval_pattern(mypat)"
     ],
     "language": "python",
     "metadata": {},
     "outputs": [
      {
       "output_type": "stream",
       "stream": "stdout",
       "text": [
        "Using normfac of 1\n",
        "Elapased: 1.2889559269s"
       ]
      },
      {
       "output_type": "stream",
       "stream": "stdout",
       "text": [
        "\n",
        "Elapased: 0.633836984634s"
       ]
      },
      {
       "output_type": "stream",
       "stream": "stdout",
       "text": [
        "\n",
        "[ 1.]\n",
        "[  2.39237815e-22]\n"
       ]
      }
     ],
     "prompt_number": 15
    },
    {
     "cell_type": "code",
     "collapsed": false,
     "input": [
      "mypat.sampling[61:68,122:127]=1\n",
      "mype.eval_pattern(mypat)"
     ],
     "language": "python",
     "metadata": {},
     "outputs": [
      {
       "output_type": "stream",
       "stream": "stdout",
       "text": [
        "Using normfac of 1\n",
        "Elapased: 1.3043320179s"
       ]
      },
      {
       "output_type": "stream",
       "stream": "stdout",
       "text": [
        "\n",
        "Elapased: 0.634829998016s"
       ]
      },
      {
       "output_type": "stream",
       "stream": "stdout",
       "text": [
        "\n",
        "[ 1.]\n",
        "[  5.40341996e-22]\n"
       ]
      }
     ],
     "prompt_number": 11
    },
    {
     "cell_type": "code",
     "collapsed": false,
     "input": [],
     "language": "python",
     "metadata": {},
     "outputs": [
      {
       "metadata": {},
       "output_type": "pyout",
       "prompt_number": 78,
       "text": [
        "array([ 1.,  1.,  1.,  1.,  1.,  1.])"
       ]
      }
     ],
     "prompt_number": 78
    },
    {
     "cell_type": "code",
     "collapsed": false,
     "input": [],
     "language": "python",
     "metadata": {},
     "outputs": []
    }
   ],
   "metadata": {}
  }
 ]
}